{
 "metadata": {
  "language_info": {
   "codemirror_mode": {
    "name": "ipython",
    "version": 3
   },
   "file_extension": ".py",
   "mimetype": "text/x-python",
   "name": "python",
   "nbconvert_exporter": "python",
   "pygments_lexer": "ipython3",
   "version": "3.8.5-final"
  },
  "orig_nbformat": 2,
  "kernelspec": {
   "name": "python3",
   "display_name": "Python 3",
   "language": "python"
  }
 },
 "nbformat": 4,
 "nbformat_minor": 2,
 "cells": [
  {
   "cell_type": "code",
   "execution_count": 2,
   "metadata": {},
   "outputs": [],
   "source": [
    "import csv\n",
    "import decimal\n",
    "import numpy as np \n",
    "import pandas as pd "
   ]
  },
  {
   "cell_type": "code",
   "execution_count": 32,
   "metadata": {
    "tags": []
   },
   "outputs": [
    {
     "output_type": "stream",
     "name": "stdout",
     "text": [
      "age\nsex\nbmi\nchildren\nsmoker\nregion\ncharges\n54289\n"
     ]
    }
   ],
   "source": [
    "#Import the data set\n",
    "with open('insurance.csv') as data_source:\n",
    "    patient_data = data_source.read()\n",
    "    #print(patient_data[0:3])\n",
    "    #print(patient_data[4:7])\n",
    "    #print(patient_data[8:11])\n",
    "    #print(patient_data[12:20])\n",
    "    #print(patient_data[21:27])\n",
    "    #print(patient_data[28:34])\n",
    "    #print(patient_data[35:42])\n",
    "\n",
    "    #Where are the headers of the data set located by index?\n",
    "    age = patient_data[0:3]\n",
    "    sex = patient_data[4:7]\n",
    "    bmi = patient_data[8:11]\n",
    "    children = patient_data[12:20]\n",
    "    smoker = patient_data[21:27]\n",
    "    region = patient_data[28:34]\n",
    "    charges = patient_data[35:42]\n",
    "\n",
    "    print(age)\n",
    "    print(sex)\n",
    "    print(bmi)\n",
    "    print(children)\n",
    "    print(smoker)\n",
    "    print(region)\n",
    "    print(charges)\n",
    "\n",
    "    #Total Characters\n",
    "    print(len(patient_data))\n",
    "    #print(patient_data)"
   ]
  },
  {
   "cell_type": "code",
   "execution_count": 33,
   "metadata": {
    "tags": []
   },
   "outputs": [
    {
     "output_type": "stream",
     "name": "stdout",
     "text": [
      "1339\n"
     ]
    }
   ],
   "source": [
    "#How many entries are in the data set?\n",
    "#Clean by line\n",
    "patient_data_splitline = patient_data.splitlines() \n",
    "patient_data_clean_splitlines = []\n",
    "for data in patient_data_splitline:\n",
    "    data.split(',')\n",
    "    patient_data_clean_splitlines.append(data)\n",
    "print(len(patient_data_clean_splitlines))\n",
    "\n",
    "# There are 1339 entries are in the data set"
   ]
  },
  {
   "cell_type": "code",
   "execution_count": 34,
   "metadata": {},
   "outputs": [
    {
     "output_type": "stream",
     "name": "stdout",
     "text": [
      "Total sum of ages in the dataset: 41027.62\nAverage age of the dataset: 30.66\n"
     ]
    }
   ],
   "source": [
    "#What is the average age of the data set?\n",
    "    \n",
    "#Ensure clean data\n",
    "patient_data_split = patient_data.split(',')\n",
    "patient_data_clean_age = []\n",
    "for data in patient_data_split:\n",
    "    patient_data_clean_age.append(data)\n",
    "#print(patient_data_clean_age)\n",
    "\n",
    "patient_records_age = {}\n",
    "patient_age = []\n",
    "patient_age_float = []\n",
    "\n",
    "#Age list\n",
    "patient_records_age[\"Ages\"] = patient_data_clean_age[8:len(patient_data_clean_age):6]\n",
    "#Filter for Age Data - generate Age List\n",
    "for entry in patient_records_age[\"Ages\"]:\n",
    "    patient_age.append(entry)\n",
    "#print(patient_age)\n",
    "\n",
    "#Convert Age list entries into Floats\n",
    "for item in patient_age:\n",
    "    patient_age_float.append(float(item))\n",
    "#print(patient_age_float)\n",
    "\n",
    "#Calculate total cost and average cost\n",
    "total_age = 0\n",
    "for value in patient_age_float:\n",
    "    total_age += value\n",
    "average_age = total_age/len(patient_age_float)\n",
    "\n",
    "print(\"Total sum of ages in the dataset: \" + str(format(total_age, '.2f')))\n",
    "print(\"Average age of the dataset: \" + str(format(average_age, '.2f')))\n",
    "\n",
    "#Total Age for the data set is 41,027.62\n",
    "#Average Age for the data set is 30.66    \n"
   ]
  },
  {
   "cell_type": "code",
   "execution_count": 351,
   "metadata": {},
   "outputs": [
    {
     "output_type": "stream",
     "name": "stdout",
     "text": [
      "There are 676 males in the dataset, which makes up 50.5% of the sample size\nThere are 662 females in the dataset, which makes up 49.5% of the sample size\n"
     ]
    }
   ],
   "source": [
    "#How many males and females are in the data set? What is the percentage of males and females in the dataset?\n",
    "    \n",
    "#Ensure clean data\n",
    "patient_data_split = patient_data.split(',')\n",
    "patient_data_clean_sex = []\n",
    "for data in patient_data_split:\n",
    "    patient_data_clean_sex.append(data)\n",
    "#print(patient_data_clean_sex)\n",
    "\n",
    "patient_records_sex = {}\n",
    "patient_sex = []\n",
    "#Sex list\n",
    "patient_records_sex[\"Sex\"] = patient_data_clean_sex[7:len(patient_data_clean_sex):6]\n",
    "#Filter for Sex Data - generate Sex List\n",
    "for entry in patient_records_sex[\"Sex\"]:\n",
    "    patient_sex.append(entry)\n",
    "#print(patient_sex)\n",
    "#print(patient_sex[0:5])\n",
    "\n",
    "#Calculate how many males and females in the dataset\n",
    "patient_male = 0\n",
    "patient_female = 0\n",
    "for record in patient_sex:\n",
    "    if record == 'male':\n",
    "        patient_male += 1\n",
    "    elif record == 'female':\n",
    "        patient_female += 1\n",
    "    else:\n",
    "        pass\n",
    "#Percent Males and Females\n",
    "percent_male = (patient_male/(patient_male + patient_female)) * 100\n",
    "percent_female = (patient_female/(patient_male + patient_female)) * 100\n",
    "\n",
    "print(\"There are \" + str(patient_male) + \" males in the dataset, which makes up \" + str(format(percent_male, '.1f')) + \"%\" + \" of the sample size\")\n",
    "print(\"There are \" + str(patient_female) + \" females in the dataset, which makes up \" + str(format(percent_female, '.1f')) + \"%\" + \" of the sample size\")\n",
    "\n",
    "#There are 676 males in the dataset, which makes up 50.5% of the sample size\n",
    "#There are 662 females in the dataset, which makes up 49.5% of the sample size\n"
   ]
  },
  {
   "cell_type": "code",
   "execution_count": 35,
   "metadata": {},
   "outputs": [
    {
     "output_type": "stream",
     "name": "stdout",
     "text": [
      "There are 274 smokers in the data set, which make up 20.5% of the sample size\nThere are 1064 non-smokers in the data set, which make up 79.5% of the sample size\n"
     ]
    }
   ],
   "source": [
    "#How many smokers and non-smokers are in the dataset? What percentage of smokers and non smokers are in the dataset?\n",
    "    \n",
    "#Ensure clean data\n",
    "patient_data_split = patient_data.split(',')\n",
    "patient_data_clean_smoke = []\n",
    "for data in patient_data_split:\n",
    "    patient_data_clean_smoke.append(data)\n",
    "    #print(patient_data_clean_smoke)\n",
    "\n",
    "patient_records_smoke = {}\n",
    "patient_smoke = []\n",
    "\n",
    "patient_records_smoke[\"Smoke\"] = patient_data_clean_smoke[10:len(patient_data_clean_smoke):6]\n",
    "#Filter for Smoker Data - generate Smoker List\n",
    "for entry in patient_records_smoke[\"Smoke\"]:\n",
    "    patient_smoke.append(entry)\n",
    "    #print(patient_smoke)\n",
    "\n",
    "#Calculate how many smokers and non-smokers in the dataset\n",
    "Smokers = 0\n",
    "NonSmokers = 0\n",
    "for record in patient_smoke:\n",
    "    if record == 'yes':\n",
    "        Smokers += 1\n",
    "    elif record == 'no':\n",
    "        NonSmokers += 1\n",
    "    else:\n",
    "        pass \n",
    "#Percent Smokers and Non-Smokers in the Dataset\n",
    "percent_smokers = (Smokers/(Smokers + NonSmokers)) * 100\n",
    "percent_nonsmokers = (NonSmokers/(Smokers + NonSmokers)) * 100\n",
    "\n",
    "print(\"There are \" + str(Smokers) + \" smokers in the data set, which make up \" + str(format(percent_smokers, '.1f')) + \"%\" + \" of the sample size\")\n",
    "print(\"There are \" + str(NonSmokers) + \" non-smokers in the data set, which make up \" + str(format(percent_nonsmokers, '.1f')) + \"%\" + \" of the sample size\")\n",
    "\n",
    "#There are 274 smokers in the data set, which make up 20.5% of the sample size\n",
    "#There are 1064 non-smokers in the data set, which make up 79.5% of the sample size\n"
   ]
  },
  {
   "cell_type": "code",
   "execution_count": 7,
   "metadata": {},
   "outputs": [
    {
     "output_type": "stream",
     "name": "stdout",
     "text": [
      "There are 364 patients in the data set from the Southeast region, which make up 27.2% of the sample size\nThere are 325 patients in the data set from the Southwest region, which make up 24.3% of the sample size\nThere are 324 patients in the data set from the Northeast region, which make up 24.2% of the sample size\nThere are 325 patients in the data set from the Northwest region, which make up 24.3% of the sample size\n"
     ]
    }
   ],
   "source": [
    "#What region are most of the patients from? \n",
    "    \n",
    "#Ensure clean data\n",
    "patient_data_split = patient_data.split(',')\n",
    "patient_data_clean_region = []\n",
    "for data in patient_data_split:\n",
    "    patient_data_clean_region.append(data)\n",
    "    #print(patient_data_clean_smoke)\n",
    "\n",
    "patient_records_region = {}\n",
    "patient_region = []\n",
    "\n",
    "patient_records_region[\"Region\"] = patient_data_clean_region[11:len(patient_data_clean_region):6]\n",
    "#Filter for Region Data - generate Region List\n",
    "for entry in patient_records_region[\"Region\"]:\n",
    "   patient_region.append(entry)\n",
    "   #print(patient_region)\n",
    "\n",
    "#Calculate total entries from Southeast, Southwest, Northeast, Northwest\n",
    "Southeast = 0\n",
    "Southwest = 0\n",
    "Northeast = 0\n",
    "Northwest = 0\n",
    "for record in patient_region:\n",
    "   if record == 'southeast':\n",
    "      Southeast += 1\n",
    "   elif record == 'southwest':\n",
    "      Southwest += 1\n",
    "   elif record == 'northeast':\n",
    "      Northeast += 1\n",
    "   elif record == 'northwest':\n",
    "      Northwest += 1\n",
    "   else:\n",
    "      pass\n",
    "#Determine percentage in each region (southeast, southwest, northeast, northwest)\n",
    "percent_SE = (Southeast/(Southwest+Southeast+Northeast+Northwest))* 100\n",
    "percent_SW = (Southwest/(Southwest+Southeast+Northeast+Northwest))* 100\n",
    "percent_NE = (Northeast/(Southwest+Southeast+Northeast+Northwest))* 100\n",
    "percent_NW = (Northwest/(Southwest+Southeast+Northeast+Northwest))* 100\n",
    "\n",
    "print(\"There are \" + str(Southeast) + \" patients in the data set from the Southeast region, which make up \" + str(format(percent_SE, '.1f')) + \"%\" + \" of the sample size\")\n",
    "print(\"There are \" + str(Southwest) + \" patients in the data set from the Southwest region, which make up \" + str(format(percent_SW, '.1f')) + \"%\" + \" of the sample size\")\n",
    "print(\"There are \" + str(Northeast) + \" patients in the data set from the Northeast region, which make up \" + str(format(percent_NE, '.1f')) + \"%\" + \" of the sample size\")\n",
    "print(\"There are \" + str(Northwest) + \" patients in the data set from the Northwest region, which make up \" + str(format(percent_NW, '.1f')) + \"%\" + \" of the sample size\")\n",
    "\n",
    "#There are 364 patients in the data set from the Southeast region, which make up 27.2% of the sample size\n",
    "#There are 325 patients in the data set from the Southwest region, which make up 24.3% of the sample size\n",
    "#There are 324 patients in the data set from the Northeast region, which make up 24.2% of the sample size\n",
    "#There are 325 patients in the data set from the Northwest region, which make up 24.3% of the sample size"
   ]
  },
  {
   "cell_type": "code",
   "execution_count": 36,
   "metadata": {},
   "outputs": [
    {
     "output_type": "stream",
     "name": "stdout",
     "text": [
      "Total Cost of insurance in the dataset: $17755824.99\nAverage cost of the dataset: $13270.42\n"
     ]
    }
   ],
   "source": [
    "#What is the total insurance cost for the data set? What is the average cost for the data set? \n",
    "    \n",
    "#Ensure clean data\n",
    "patient_data_split = patient_data.split(',')\n",
    "patient_data_clean_cost = []\n",
    "for data in patient_data_split:\n",
    "    patient_data_clean_cost.append(data)\n",
    "#print(patient_data_clean_cost)\n",
    "\n",
    "patient_records_cost = {}\n",
    "patient_cost_update = []\n",
    "patient_cost = []\n",
    "patient_cost_float = []\n",
    "   \n",
    "patient_records_cost[\"Cost\"] = patient_data_clean_cost[12:len(patient_data_clean_cost):6]\n",
    "for entry in patient_records_cost[\"Cost\"]:\n",
    "    patient_cost_update.append(entry)\n",
    "#Split from new lines\n",
    "for item in patient_cost_update:\n",
    "    items = item.splitlines()\n",
    "    patient_cost.append(items[0])\n",
    "    #print(patient_cost)\n",
    "\n",
    "#Convert each item to float\n",
    "for record in patient_cost:\n",
    "    patient_cost_float.append(float(record))\n",
    "\n",
    "#Calculate total cost and average cost \n",
    "Total_Cost = 0\n",
    "for record in patient_cost_float:\n",
    "    Total_Cost += record\n",
    "average_cost = Total_Cost/len(patient_cost_float)\n",
    "\n",
    "print(\"Total Cost of insurance in the dataset: $\" + str(format(Total_Cost, '.2f')))\n",
    "print(\"Average cost of the dataset: $\" + str(format(average_cost, '.2f')))\n",
    "\n",
    "#Total Cost of insurance in the dataset: $17755824.99\n",
    "#Average cost of the dataset: $13270.42\n",
    "\n"
   ]
  },
  {
   "cell_type": "code",
   "execution_count": 63,
   "metadata": {},
   "outputs": [
    {
     "output_type": "stream",
     "name": "stdout",
     "text": [
      "The average age of a patient in the South East region is 33.4 years old.\nThe average age of a patient in the South West region is 30.6 years old.\nThe average age of a patient in the North East region is 29.2 years old.\nThe average age of a patient in the North West region is 29.2 years old.\n"
     ]
    }
   ],
   "source": [
    "#What is the average age per region? \n",
    "\n",
    "patient_list_age_region = list(zip(patient_region, patient_age_float))\n",
    "\n",
    "Age_Region = patient_list_age_region\n",
    "#print(Age_Region)\n",
    "Total_Southeast_age = 0\n",
    "Southeast_Population = 0\n",
    "Total_Southwest_age = 0\n",
    "Southwest_Population = 0\n",
    "Total_Northeast_age = 0\n",
    "Northeast_Population = 0\n",
    "Total_Northwest_age = 0\n",
    "Northwest_Population = 0\n",
    "\n",
    "for entry in Age_Region:\n",
    "    \n",
    "    if entry[0] == 'southeast':\n",
    "        Total_Southeast_age += entry[1]\n",
    "        Southeast_Population += 1\n",
    "    elif entry[0] == 'southwest':\n",
    "        Total_Southwest_age += entry[1]\n",
    "        Southwest_Population += 1\n",
    "    elif entry[0] == 'northeast':\n",
    "        Total_Northeast_age += entry[1]\n",
    "        Northeast_Population += 1\n",
    "    elif entry[0] == 'northwest':\n",
    "        Total_Northwest_age += entry[1]\n",
    "        Northwest_Population += 1\n",
    "    else:\n",
    "        pass\n",
    "#Total Ages \n",
    "'''\n",
    "print(Total_Southeast_age)\n",
    "print(Total_Southwest_age)\n",
    "print(Total_Northeast_age)\n",
    "print(Total_Northwest_age)\n",
    "'''\n",
    "\n",
    "#Calculate the average age per region\n",
    "Average_age_SE = Total_Southeast_age/Southeast_Population\n",
    "Average_age_SW = Total_Southwest_age/Southwest_Population\n",
    "Average_age_NE = Total_Northeast_age/Northeast_Population\n",
    "Average_age_NW = Total_Northwest_age/Northwest_Population\n",
    "print(\"The average age of a patient in the South East region is \" + str(format(Average_age_SE, '.1f') + \" years old.\"))\n",
    "print(\"The average age of a patient in the South West region is \" + str(format(Average_age_SW, '.1f') + \" years old.\"))\n",
    "print(\"The average age of a patient in the North East region is \" + str(format(Average_age_NE, '.1f') + \" years old.\"))\n",
    "print(\"The average age of a patient in the North West region is \" + str(format(Average_age_NW, '.1f') + \" years old.\"))\n",
    "\n"
   ]
  },
  {
   "cell_type": "code",
   "execution_count": null,
   "metadata": {},
   "outputs": [],
   "source": []
  }
 ]
}